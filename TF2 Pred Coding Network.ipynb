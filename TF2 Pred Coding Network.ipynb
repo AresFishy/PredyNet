{
 "cells": [
  {
   "cell_type": "code",
   "execution_count": 1,
   "metadata": {},
   "outputs": [],
   "source": [
    "import tensorflow as tf\n",
    "import tensorflow_probability as tfp\n",
    "\n",
    "import tensorflow.keras.layers as tkl\n",
    "\n",
    "import numpy as np\n",
    "import time\n",
    "from IPython import display\n",
    "\n",
    "import matplotlib.pyplot as plt\n",
    "\n",
    "%matplotlib inline"
   ]
  },
  {
   "cell_type": "code",
   "execution_count": 2,
   "metadata": {},
   "outputs": [],
   "source": [
    "(train_images, _), (test_images, _) = tf.keras.datasets.mnist.load_data()\n",
    "\n",
    "train_images = train_images.reshape(train_images.shape[0], 28*28).astype('float32')\n",
    "test_images = test_images.reshape(test_images.shape[0], 28*28).astype('float32')\n",
    "\n",
    "train_images /= 255.\n",
    "test_images /= 255.\n",
    "\n",
    "train_images[train_images >= .5] = 1.\n",
    "train_images[train_images < .5] = 0.\n",
    "test_images[test_images >= .5] = 1.\n",
    "test_images[test_images < .5] = 0.\n",
    "batch_size = 100\n",
    "\n",
    "train_dataset = tf.data.Dataset.from_tensor_slices(train_images).batch(batch_size)\n",
    "test_dataset = tf.data.Dataset.from_tensor_slices(test_images).batch(batch_size)"
   ]
  },
  {
   "cell_type": "code",
   "execution_count": 3,
   "metadata": {},
   "outputs": [],
   "source": [
    "class PredNet(tf.keras.Model):\n",
    "    \"Linear Layers, no tricks\"\n",
    "    def __init__(self, z):\n",
    "        super(PredNet, self).__init__()\n",
    "        self.latent_dim = z\n",
    "        \n",
    "        self.decoder = tf.keras.Sequential([\n",
    "            tkl.InputLayer((z,)),\n",
    "            tkl.Dense(32, activation='relu'),\n",
    "            tkl.Dense(28*28, activation=tf.nn.sigmoid),\n",
    "#             tkl.Reshape(target_shape=(28, 28, ))\n",
    "        ])\n",
    "        \n",
    "        self.encoder = tf.keras.Sequential([\n",
    "            tkl.InputLayer((28*28,)),\n",
    "            tkl.Dense(32, activation='relu'),\n",
    "            tkl.Dense(self.latent_dim, activation=tf.nn.tanh),            \n",
    "        ])        \n",
    "        \n",
    "    def decode(self, x):\n",
    "        return self.decoder(x)\n",
    "    \n",
    "    def encode(self, x):\n",
    "        return self.encoder(x)\n",
    "    \n",
    "    def full_pass(self, x, y):\n",
    "        pred = self.decode(y)\n",
    "        err = x - pred\n",
    "        z = self.encode(err)\n",
    "        return z\n",
    "        "
   ]
  },
  {
   "cell_type": "code",
   "execution_count": 4,
   "metadata": {},
   "outputs": [],
   "source": [
    "optimizer = tf.keras.optimizers.Adam()\n",
    "\n",
    "def compute_loss(model, x, y):\n",
    "    y = model.full_pass(x, y)\n",
    "    pred = model.decode(y)\n",
    "    err = x - pred\n",
    "    \n",
    "    return -tf.reduce_mean(err**2)\n",
    "\n",
    "def apply_gradients(model, x, y, optimizer):\n",
    "    with tf.GradientTape() as tape:\n",
    "        loss = compute_loss(model, x, y)\n",
    "    gradients = tape.gradient(loss, model.trainable_variables)\n",
    "    optimizer.apply_gradients(zip(gradients, model.trainable_variables))\n",
    "    \n",
    "def generate_images(model, test_input):\n",
    "    preds_ = model.decode(test_input)\n",
    "    predictions = tf.reshape(preds_, (16, 28, 28))\n",
    "    fig = plt.figure(figsize=(4,4))\n",
    "    for i in range(predictions.shape[0]):\n",
    "        plt.subplot(4,4, i+1)\n",
    "        plt.imshow(predictions[i,:,:], cmap='gray')\n",
    "        plt.axis('off')\n",
    "    plt.show()    "
   ]
  },
  {
   "cell_type": "code",
   "execution_count": 5,
   "metadata": {},
   "outputs": [],
   "source": [
    "z = 10\n",
    "model = PredNet(z)"
   ]
  },
  {
   "cell_type": "code",
   "execution_count": 6,
   "metadata": {},
   "outputs": [],
   "source": [
    "num_examples = 16\n",
    "rand_vec = tf.random.normal(shape=[num_examples, z])\n",
    "y0 = tf.random.normal([batch_size,z])"
   ]
  },
  {
   "cell_type": "code",
   "execution_count": 8,
   "metadata": {},
   "outputs": [
    {
     "name": "stdout",
     "output_type": "stream",
     "text": [
      "Epoch: 1, Test set loss: -0.8672301769256592,time elapsed: 9.387983798980713\n"
     ]
    },
    {
     "data": {
      "image/png": "[encoded data removed]",
      "text/plain": [
       "<Figure size 288x288 with 16 Axes>"
      ]
     },
     "metadata": {
      "needs_background": "light"
     },
     "output_type": "display_data"
    }
   ],
   "source": [
    "for epoch in range(2):\n",
    "    start_time = time.time()\n",
    "    for x in train_dataset:\n",
    "         y0 = model.full_pass(x, y0)\n",
    "         apply_gradients(model, x, y0, optimizer)   \n",
    "    end_time = time.time()\n",
    "    \n",
    "    if epoch % 1 == 0:\n",
    "        loss = tf.keras.metrics.Mean()\n",
    "        for test_x in test_dataset:\n",
    "            y0 = model.full_pass(x, y0)\n",
    "            loss(compute_loss(model, test_x, y0))\n",
    "            loss_ = loss.result()\n",
    "            display.clear_output(wait=True)\n",
    "        print(\"Epoch: {}, Test set loss: {},\"\n",
    "                  \"time elapsed: {}\".format(epoch, \n",
    "                                            loss_,\n",
    "                                            end_time - start_time))\n",
    "\n",
    "    generate_images(model, rand_vec)"
   ]
  },
  {
   "cell_type": "code",
   "execution_count": 166,
   "metadata": {},
   "outputs": [
    {
     "data": {
      "text/plain": [
       "<tf.Tensor: id=1571445, shape=(100, 784), dtype=float32, numpy=\n",
       "array([[0.99921745, 0.9992433 , 0.999189  , ..., 0.99910575, 0.99913675,\n",
       "        0.99925685],\n",
       "       [0.99921745, 0.9992433 , 0.999189  , ..., 0.99910575, 0.99913675,\n",
       "        0.99925685],\n",
       "       [0.99921745, 0.9992433 , 0.999189  , ..., 0.99910575, 0.99913675,\n",
       "        0.99925685],\n",
       "       ...,\n",
       "       [0.99921745, 0.9992433 , 0.999189  , ..., 0.99910575, 0.99913675,\n",
       "        0.99925685],\n",
       "       [0.99921745, 0.9992433 , 0.999189  , ..., 0.99910575, 0.99913675,\n",
       "        0.99925685],\n",
       "       [0.99921745, 0.9992433 , 0.999189  , ..., 0.99910575, 0.99913675,\n",
       "        0.99925685]], dtype=float32)>"
      ]
     },
     "execution_count": 166,
     "metadata": {},
     "output_type": "execute_result"
    }
   ],
   "source": [
    "model.decode(y0)"
   ]
  },
  {
   "cell_type": "code",
   "execution_count": 140,
   "metadata": {},
   "outputs": [],
   "source": [
    "cnt = 0\n",
    "for x in train_dataset:\n",
    "     y0 = model.full_pass(x, y0)\n",
    "     cnt += 1"
   ]
  },
  {
   "cell_type": "code",
   "execution_count": 135,
   "metadata": {},
   "outputs": [
    {
     "data": {
      "text/plain": [
       "900"
      ]
     },
     "execution_count": 135,
     "metadata": {},
     "output_type": "execute_result"
    }
   ],
   "source": [
    "cnt"
   ]
  },
  {
   "cell_type": "code",
   "execution_count": 112,
   "metadata": {},
   "outputs": [
    {
     "data": {
      "text/plain": [
       "TensorShape([16, 16])"
      ]
     },
     "execution_count": 112,
     "metadata": {},
     "output_type": "execute_result"
    }
   ],
   "source": [
    "rand_vec.shape"
   ]
  },
  {
   "cell_type": "code",
   "execution_count": 113,
   "metadata": {},
   "outputs": [
    {
     "data": {
      "text/plain": [
       "<tf.Tensor: id=20583, shape=(16, 784), dtype=float32, numpy=\n",
       "array([[-0.10537411,  0.05193016,  0.01790936, ..., -0.04152266,\n",
       "         0.04325836,  0.23722038],\n",
       "       [ 0.04157636, -0.01008238,  0.00224819, ..., -0.12321901,\n",
       "        -0.047409  ,  0.21976094],\n",
       "       [ 0.09217097, -0.02528837,  0.0115513 , ..., -0.06597015,\n",
       "        -0.1270804 ,  0.08402786],\n",
       "       ...,\n",
       "       [ 0.25595897,  0.0321898 ,  0.34293818, ..., -0.07445385,\n",
       "        -0.42378765, -0.3124227 ],\n",
       "       [ 0.19001815,  0.1546324 , -0.02177703, ...,  0.04285537,\n",
       "        -0.08605777,  0.03356364],\n",
       "       [-0.10406683,  0.0078279 ,  0.04952916, ..., -0.2082236 ,\n",
       "         0.08769575,  0.16552079]], dtype=float32)>"
      ]
     },
     "execution_count": 113,
     "metadata": {},
     "output_type": "execute_result"
    }
   ],
   "source": [
    "model.decode(rand_vec)"
   ]
  },
  {
   "cell_type": "code",
   "execution_count": 147,
   "metadata": {},
   "outputs": [
    {
     "data": {
      "image/png": "[encoded data removed]",
      "text/plain": [
       "<Figure size 288x288 with 16 Axes>"
      ]
     },
     "metadata": {
      "needs_background": "light"
     },
     "output_type": "display_data"
    }
   ],
   "source": [
    "generate_images(model, rand_vec)"
   ]
  },
  {
   "cell_type": "code",
   "execution_count": null,
   "metadata": {},
   "outputs": [],
   "source": []
  }
 ],
 "metadata": {
  "@webio": {
   "lastCommId": null,
   "lastKernelId": null
  },
  "kernelspec": {
   "display_name": "Python 3",
   "language": "python",
   "name": "python3"
  },
  "language_info": {
   "codemirror_mode": {
    "name": "ipython",
    "version": 3
   },
   "file_extension": ".py",
   "mimetype": "text/x-python",
   "name": "python",
   "nbconvert_exporter": "python",
   "pygments_lexer": "ipython3",
   "version": "3.7.4"
  }
 },
 "nbformat": 4,
 "nbformat_minor": 2
}
